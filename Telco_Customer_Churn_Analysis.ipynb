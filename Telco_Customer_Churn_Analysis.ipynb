{
  "metadata": {
    "kernelspec": {
      "name": "python3",
      "display_name": "Python 3",
      "language": "python"
    },
    "language_info": {
      "name": "python",
      "version": "3.11.11",
      "mimetype": "text/x-python",
      "codemirror_mode": {
        "name": "ipython",
        "version": 3
      },
      "pygments_lexer": "ipython3",
      "nbconvert_exporter": "python",
      "file_extension": ".py"
    },
    "kaggle": {
      "accelerator": "none",
      "dataSources": [
        {
          "sourceId": 18858,
          "sourceType": "datasetVersion",
          "datasetId": 13996
        }
      ],
      "dockerImageVersionId": 31012,
      "isInternetEnabled": true,
      "language": "python",
      "sourceType": "notebook",
      "isGpuEnabled": false
    },
    "colab": {
      "name": "Telco Customer Churn Analysis",
      "provenance": [],
      "include_colab_link": true
    }
  },
  "nbformat_minor": 0,
  "nbformat": 4,
  "cells": [
    {
      "cell_type": "markdown",
      "metadata": {
        "id": "view-in-github",
        "colab_type": "text"
      },
      "source": [
        "<a href=\"https://colab.research.google.com/github/jhuarancca/MachineLearningEngineerI/blob/main/Telco_Customer_Churn_Analysis.ipynb\" target=\"_parent\"><img src=\"https://colab.research.google.com/assets/colab-badge.svg\" alt=\"Open In Colab\"/></a>"
      ]
    },
    {
      "source": [
        "# IMPORTANT: RUN THIS CELL IN ORDER TO IMPORT YOUR KAGGLE DATA SOURCES,\n",
        "# THEN FEEL FREE TO DELETE THIS CELL.\n",
        "# NOTE: THIS NOTEBOOK ENVIRONMENT DIFFERS FROM KAGGLE'S PYTHON\n",
        "# ENVIRONMENT SO THERE MAY BE MISSING LIBRARIES USED BY YOUR\n",
        "# NOTEBOOK.\n",
        "import kagglehub\n",
        "blastchar_telco_customer_churn_path = kagglehub.dataset_download('blastchar/telco-customer-churn')\n",
        "\n",
        "print('Data source import complete.')\n"
      ],
      "metadata": {
        "id": "jXqKE_CuqsMA"
      },
      "cell_type": "code",
      "outputs": [],
      "execution_count": null
    },
    {
      "cell_type": "markdown",
      "source": [
        "# Telco Customer Churn Analysis"
      ],
      "metadata": {
        "id": "5b55b35c"
      }
    },
    {
      "cell_type": "markdown",
      "source": [
        "## Problem\n",
        "\n",
        "* It is requested to develop a machine learning model to predict customers who are likely to leave the company.\n",
        "\n",
        "* Before building the model, it is expected that the necessary data analysis and feature engineering steps are completed."
      ],
      "metadata": {
        "id": "a2fc0fe2"
      }
    },
    {
      "cell_type": "markdown",
      "source": [
        "## Dataset Information:\n",
        "\n",
        "* The Telco Customer Churn dataset contains information about 7,043 customers who received landline phone and internet services from a fictional telecommunications company operating in California during the third quarter.\n",
        "* It includes information on which customers stayed, left, or signed up for the service.\n",
        "* 21 Variables and 7,043 Observations"
      ],
      "metadata": {
        "id": "82f09a03"
      }
    },
    {
      "cell_type": "markdown",
      "source": [
        "## Features\n",
        "\n",
        "**CustomerID:** Customer ID\n",
        "\n",
        "**Gender:** Customer's gender\n",
        "\n",
        "**SeniorCitizen:** Whether the customer is a senior citizen (1, 0)\n",
        "\n",
        "**Partner:** Whether the customer has a partner (Yes, No) — indicates marital status\n",
        "\n",
        "**Dependents:** Whether the customer has dependents (Yes, No) — such as children, parents, or grandparents\n",
        "\n",
        "**Tenure:** Number of months the customer has stayed with the company\n",
        "\n",
        "**PhoneService:** Whether the customer has phone service (Yes, No)\n",
        "\n",
        "**MultipleLines:** Whether the customer has multiple lines (Yes, No, No phone service)\n",
        "\n",
        "**InternetService:** Customer’s internet service provider (DSL, Fiber optic, No)\n",
        "\n",
        "**OnlineSecurity:** Whether the customer has online security service (Yes, No, No internet service)\n",
        "\n",
        "**OnlineBackup:** Whether the customer has online backup service (Yes, No, No internet service)\n",
        "\n",
        "**DeviceProtection:** Whether the customer has device protection service (Yes, No, No internet service)\n",
        "\n",
        "**TechSupport:** Whether the customer has technical support service (Yes, No, No internet service)\n",
        "\n",
        "**StreamingTV:** Whether the customer is streaming TV (Yes, No, No internet service) — indicates if they use their internet service to stream TV shows through a third-party provider\n",
        "\n",
        "**StreamingMovies:** Whether the customer is streaming movies (Yes, No, No internet service) — indicates if they use their internet service to stream movies through a third-party provider\n",
        "\n",
        "**Contract:** Customer's contract term (Month-to-month, One year, Two year)\n",
        "\n",
        "**PaperlessBilling:** Whether the customer has paperless billing (Yes, No)\n",
        "\n",
        "**PaymentMethod:** Customer's payment method (Electronic check, Mailed check, Bank transfer (automatic), Credit card (automatic))\n",
        "\n",
        "**MonthlyCharges:** The amount charged to the customer monthly\n",
        "\n",
        "**TotalCharges:** The total amount charged to the customer\n",
        "\n",
        "**Churn:** Whether the customer churned (Yes or No) — customers who left within the last month or quarter"
      ],
      "metadata": {
        "id": "5723f0b8"
      }
    },
    {
      "cell_type": "markdown",
      "source": [
        "## Additional Notes:\n",
        "* Each row represents a unique customer.\n",
        "\n",
        "* Variables include information about customer services, account information, and demographic data.\n",
        "\n",
        "**Customer services:** phone, multiple lines, internet, online security, online backup, device protection, tech support, streaming TV, and streaming movies.\n",
        "\n",
        "**Customer account information:** tenure, contract, payment method, paperless billing, monthly charges, and total charges.\n",
        "\n",
        "**Customer demographics:** gender, age range, and whether they have a partner or dependents."
      ],
      "metadata": {
        "id": "ec7ec6be"
      }
    },
    {
      "cell_type": "code",
      "source": [
        "import numpy as np\n",
        "import pandas as pd\n",
        "import matplotlib.pyplot as plt\n",
        "import seaborn as sns\n",
        "\n",
        "from pprint import pprint\n",
        "from sklearn.linear_model import LogisticRegression\n",
        "from sklearn.neighbors import KNeighborsClassifier\n",
        "from sklearn.preprocessing import LabelEncoder\n",
        "from sklearn.model_selection import GridSearchCV, RandomizedSearchCV, cross_validate\n",
        "from sklearn.svm import SVC\n",
        "from sklearn.tree import DecisionTreeClassifier\n",
        "from sklearn.ensemble import RandomForestClassifier, VotingClassifier\n",
        "from catboost import CatBoostClassifier\n",
        "from lightgbm import LGBMClassifier\n",
        "from xgboost import XGBClassifier\n",
        "import warnings\n",
        "warnings.simplefilter(action=\"ignore\")\n",
        "\n",
        "\n",
        "pd.set_option('display.float_format', lambda x: '%.3f' % x)\n",
        "pd.set_option('display.max_columns', None)\n",
        "pd.set_option('display.width', 1000)"
      ],
      "metadata": {
        "trusted": true,
        "execution": {
          "iopub.status.busy": "2025-04-27T21:44:19.506962Z",
          "iopub.execute_input": "2025-04-27T21:44:19.507317Z",
          "iopub.status.idle": "2025-04-27T21:44:19.514833Z",
          "shell.execute_reply.started": "2025-04-27T21:44:19.507293Z",
          "shell.execute_reply": "2025-04-27T21:44:19.51399Z"
        },
        "id": "d2632ae7"
      },
      "outputs": [],
      "execution_count": null
    },
    {
      "cell_type": "code",
      "source": [
        "df = pd.read_csv(\"/kaggle/input/telco-customer-churn/WA_Fn-UseC_-Telco-Customer-Churn.csv\")\n",
        "df.head()"
      ],
      "metadata": {
        "trusted": true,
        "execution": {
          "iopub.status.busy": "2025-04-27T21:44:19.516389Z",
          "iopub.execute_input": "2025-04-27T21:44:19.516703Z",
          "iopub.status.idle": "2025-04-27T21:44:19.588921Z",
          "shell.execute_reply.started": "2025-04-27T21:44:19.516683Z",
          "shell.execute_reply": "2025-04-27T21:44:19.58787Z"
        },
        "id": "4fa65bde"
      },
      "outputs": [],
      "execution_count": null
    },
    {
      "cell_type": "markdown",
      "source": [
        "## 1) Exploratory data analysis (EDA)"
      ],
      "metadata": {
        "id": "2b9e9fb2"
      }
    },
    {
      "cell_type": "code",
      "source": [
        "def check_df(dataframe, head=5):\n",
        "    print(\"##################### Shape #####################\")\n",
        "    print(dataframe.shape)\n",
        "    print(\"##################### Types #####################\")\n",
        "    print(dataframe.dtypes)\n",
        "    print(\"##################### NA #####################\")\n",
        "    print(dataframe.isnull().sum())\n",
        "    print(\"##################### Quantiles #####################\")\n",
        "    print(dataframe.describe([0, 0.05, 0.50, 0.95, 0.99, 1]).T)\n",
        "\n",
        "check_df(df)"
      ],
      "metadata": {
        "trusted": true,
        "execution": {
          "iopub.status.busy": "2025-04-27T21:44:19.589763Z",
          "iopub.execute_input": "2025-04-27T21:44:19.590036Z",
          "iopub.status.idle": "2025-04-27T21:44:19.617391Z",
          "shell.execute_reply.started": "2025-04-27T21:44:19.59001Z",
          "shell.execute_reply": "2025-04-27T21:44:19.616517Z"
        },
        "id": "d03f82ed"
      },
      "outputs": [],
      "execution_count": null
    },
    {
      "cell_type": "code",
      "source": [
        " # We need to change the type of the variables TotalCharges and churn\n",
        "\n",
        "df[\"TotalCharges\"] = pd.to_numeric(df[\"TotalCharges\"], errors='coerce')\n",
        "df[\"Churn\"] = df[\"Churn\"].apply(lambda x : 1 if x == \"Yes\" else 0)\n",
        "\n",
        "df.info()"
      ],
      "metadata": {
        "trusted": true,
        "execution": {
          "iopub.status.busy": "2025-04-27T21:44:19.618252Z",
          "iopub.execute_input": "2025-04-27T21:44:19.618476Z",
          "iopub.status.idle": "2025-04-27T21:44:19.642959Z",
          "shell.execute_reply.started": "2025-04-27T21:44:19.618449Z",
          "shell.execute_reply": "2025-04-27T21:44:19.642007Z"
        },
        "id": "320150f8"
      },
      "outputs": [],
      "execution_count": null
    },
    {
      "cell_type": "markdown",
      "source": [
        "### 1.1 Determination of Numeric And Categorical Variables"
      ],
      "metadata": {
        "id": "401ed3d9"
      }
    },
    {
      "cell_type": "code",
      "source": [
        "def grab_col_names(dataframe, cat_th=10, car_th=20):\n",
        "    \"\"\"\n",
        "    Returns the names of categorical, numerical, and categorical but cardinal variables in the dataset.\n",
        "    Note: Numerical-looking categorical variables are also included in the categorical variables.\n",
        "\n",
        "    Parameters\n",
        "    ------\n",
        "        dataframe: dataframe\n",
        "                The dataframe from which the variable names are to be retrieved\n",
        "        cat_th: int, optional\n",
        "                Class threshold value for numerical but categorical variables\n",
        "        car_th: int, optional\n",
        "                Class threshold value for categorical but cardinal variables\n",
        "\n",
        "    Returns\n",
        "    ------\n",
        "        cat_cols: list\n",
        "                List of categorical variables\n",
        "        num_cols: list\n",
        "                List of numerical variables\n",
        "        cat_but_car: list\n",
        "                List of categorical-looking but cardinal variables\n",
        "\n",
        "    Examples\n",
        "    ------\n",
        "        import seaborn as sns\n",
        "        df = sns.load_dataset(\"iris\")\n",
        "        print(grab_col_names(df))\n",
        "\n",
        "    Notes\n",
        "    ------\n",
        "        cat_cols + num_cols + cat_but_car = total number of variables\n",
        "        num_but_cat is included in cat_cols.\n",
        "    \"\"\"\n",
        "    # cat_cols, cat_but_car\n",
        "    cat_cols = [col for col in dataframe.columns if dataframe[col].dtypes == \"O\"]\n",
        "    num_but_cat = [col for col in dataframe.columns if dataframe[col].nunique() < cat_th and dataframe[col].dtypes != \"O\"]\n",
        "    cat_but_car = [col for col in dataframe.columns if dataframe[col].nunique() > car_th and dataframe[col].dtypes == \"O\"]\n",
        "    cat_cols = cat_cols + num_but_cat\n",
        "    cat_cols = [col for col in cat_cols if col not in cat_but_car]\n",
        "\n",
        "    # num_cols\n",
        "    num_cols = [col for col in dataframe.columns if dataframe[col].dtypes != \"O\"]\n",
        "    num_cols = [col for col in num_cols if col not in num_but_cat]\n",
        "\n",
        "    print(f\"Observations: {dataframe.shape[0]}\")\n",
        "    print(f\"Variables: {dataframe.shape[1]}\")\n",
        "    print(f'cat_cols: {len(cat_cols)}')\n",
        "    print(f'num_cols: {len(num_cols)}')\n",
        "    print(f'cat_but_car: {len(cat_but_car)}')\n",
        "    print(f'num_but_cat: {len(num_but_cat)}')\n",
        "\n",
        "    return cat_cols, num_cols, cat_but_car\n",
        "\n",
        "cat_cols, num_cols, cat_but_car = grab_col_names(df)\n",
        "\n",
        "print(\"************ Categorical Variables ************  \")\n",
        "pprint(cat_cols)\n",
        "print(\"************ Numerical Variables ************\")\n",
        "pprint(num_cols)\n",
        "print(\"************ Categorical but Cardinal Variables ************\")\n",
        "pprint(cat_but_car)"
      ],
      "metadata": {
        "trusted": true,
        "execution": {
          "iopub.status.busy": "2025-04-27T21:44:19.644911Z",
          "iopub.execute_input": "2025-04-27T21:44:19.64516Z",
          "iopub.status.idle": "2025-04-27T21:44:19.678628Z",
          "shell.execute_reply.started": "2025-04-27T21:44:19.645143Z",
          "shell.execute_reply": "2025-04-27T21:44:19.677736Z"
        },
        "id": "2e6b3fce"
      },
      "outputs": [],
      "execution_count": null
    },
    {
      "cell_type": "markdown",
      "source": [
        "### 1.2 ANALYSIS OF CATEGORICAL VARIABLES"
      ],
      "metadata": {
        "id": "a5ff526e"
      }
    },
    {
      "cell_type": "code",
      "source": [
        "def cat_summary(dataframe, col_name, plot=True):\n",
        "    print(pd.DataFrame({col_name: dataframe[col_name].value_counts(),\n",
        "                        \"Ratio\": 100 * dataframe[col_name].value_counts() / len(dataframe)}))\n",
        "    print(\"##########################################\")\n",
        "    if plot:\n",
        "        sns.countplot(x=dataframe[col_name], data=dataframe)\n",
        "        plt.show()\n",
        "\n",
        "for col in cat_cols:\n",
        "    cat_summary(df, col)"
      ],
      "metadata": {
        "trusted": true,
        "execution": {
          "iopub.status.busy": "2025-04-27T21:44:19.679556Z",
          "iopub.execute_input": "2025-04-27T21:44:19.679781Z",
          "iopub.status.idle": "2025-04-27T21:44:21.554749Z",
          "shell.execute_reply.started": "2025-04-27T21:44:19.679763Z",
          "shell.execute_reply": "2025-04-27T21:44:21.554004Z"
        },
        "id": "99145395"
      },
      "outputs": [],
      "execution_count": null
    },
    {
      "cell_type": "markdown",
      "source": [
        "### 1.3 ANALYSIS OF NUMERİCAL VARIABLES"
      ],
      "metadata": {
        "id": "a03ccd65"
      }
    },
    {
      "cell_type": "code",
      "source": [
        "def num_summary(dataframe, numerical_col, plot=False):\n",
        "    quantiles = [0.05, 0.10, 0.20, 0.30, 0.40, 0.50, 0.60, 0.70, 0.80, 0.90, 0.95, 0.99]\n",
        "    print(dataframe[numerical_col].describe(quantiles).T)\n",
        "\n",
        "    if plot:\n",
        "        dataframe[numerical_col].hist(bins=20)\n",
        "        plt.xlabel(numerical_col)\n",
        "        plt.title(numerical_col)\n",
        "        plt.show()\n",
        "\n",
        "for col in num_cols:\n",
        "    num_summary(df, col, plot=True)"
      ],
      "metadata": {
        "trusted": true,
        "execution": {
          "iopub.status.busy": "2025-04-27T21:44:21.555569Z",
          "iopub.execute_input": "2025-04-27T21:44:21.555782Z",
          "iopub.status.idle": "2025-04-27T21:44:22.085055Z",
          "shell.execute_reply.started": "2025-04-27T21:44:21.555765Z",
          "shell.execute_reply": "2025-04-27T21:44:22.084183Z"
        },
        "id": "6a3d9849"
      },
      "outputs": [],
      "execution_count": null
    },
    {
      "cell_type": "markdown",
      "source": [
        "### 1.4 ANALYSIS OF NUMERICAL VARIABLES BY TARGET"
      ],
      "metadata": {
        "id": "032760d4"
      }
    },
    {
      "cell_type": "code",
      "source": [
        "def target_summary_with_num(dataframe, target, numerical_col):\n",
        "    print(dataframe.groupby(target).agg({numerical_col: \"mean\"}), end=\"\\n\\n\\n\")\n",
        "\n",
        "for col in num_cols:\n",
        "    target_summary_with_num(df, \"Churn\", col)\n",
        "\n",
        "# As Tenure increases, Churn Risk decreases.\n",
        "# Churning customers have more MonthlyCharge. In other words, the higher the bill, the higher the probability of Churn.\n",
        "# Loyal customers paid more. In other words, we can say that customers who pay more are more loyal customers."
      ],
      "metadata": {
        "trusted": true,
        "execution": {
          "iopub.status.busy": "2025-04-27T21:44:22.08604Z",
          "iopub.execute_input": "2025-04-27T21:44:22.086341Z",
          "iopub.status.idle": "2025-04-27T21:44:22.099748Z",
          "shell.execute_reply.started": "2025-04-27T21:44:22.086323Z",
          "shell.execute_reply": "2025-04-27T21:44:22.098637Z"
        },
        "id": "3a6ac3c2"
      },
      "outputs": [],
      "execution_count": null
    },
    {
      "cell_type": "markdown",
      "source": [
        "### 1.5 ANALYSIS OF CATEGORICAL VARIABLES BY TARGET"
      ],
      "metadata": {
        "id": "49a46e2d"
      }
    },
    {
      "cell_type": "code",
      "source": [
        "def target_summary_with_cat(dataframe, target, categorical_col):\n",
        "    print(categorical_col)\n",
        "    print(pd.DataFrame({\"TARGET_MEAN\": dataframe.groupby(categorical_col)[target].mean(),\n",
        "                        \"Count\": dataframe[categorical_col].value_counts(),\n",
        "                        \"Ratio\": 100 * dataframe[categorical_col].value_counts() / len(dataframe)}), end=\"\\n\\n\\n\")\n",
        "\n",
        "for col in cat_cols:\n",
        "    target_summary_with_cat(df, \"Churn\", col)\n",
        "\n",
        "plt.figure(figsize=(15, 5))"
      ],
      "metadata": {
        "trusted": true,
        "execution": {
          "iopub.status.busy": "2025-04-27T21:44:22.100871Z",
          "iopub.execute_input": "2025-04-27T21:44:22.101495Z",
          "iopub.status.idle": "2025-04-27T21:44:22.185446Z",
          "shell.execute_reply.started": "2025-04-27T21:44:22.101475Z",
          "shell.execute_reply": "2025-04-27T21:44:22.184807Z"
        },
        "id": "753e3d19"
      },
      "outputs": [],
      "execution_count": null
    },
    {
      "cell_type": "markdown",
      "source": [
        "### 1.6 CORRELATION"
      ],
      "metadata": {
        "id": "11e6505b"
      }
    },
    {
      "cell_type": "code",
      "source": [
        "df[num_cols].corr() # TotalCharges & tenure correlation is 0.825\n",
        "\n",
        "f, ax = plt.subplots(figsize=[18, 13])\n",
        "sns.heatmap(df[num_cols].corr(), annot=True, fmt=\".2f\", ax=ax, cmap=\"magma\")\n",
        "ax.set_title(\"Correlation Matrix\", fontsize=20)\n",
        "plt.show()\n",
        "\n",
        "df[num_cols].corrwith(df[\"Churn\"]).sort_values(ascending=False)"
      ],
      "metadata": {
        "scrolled": true,
        "trusted": true,
        "execution": {
          "iopub.status.busy": "2025-04-27T21:44:22.18628Z",
          "iopub.execute_input": "2025-04-27T21:44:22.186582Z",
          "iopub.status.idle": "2025-04-27T21:44:22.458035Z",
          "shell.execute_reply.started": "2025-04-27T21:44:22.186555Z",
          "shell.execute_reply": "2025-04-27T21:44:22.457322Z"
        },
        "id": "0d87fd01"
      },
      "outputs": [],
      "execution_count": null
    },
    {
      "cell_type": "markdown",
      "source": [
        "## 2. FEATURE ENGINEERING"
      ],
      "metadata": {
        "id": "ae45afba"
      }
    },
    {
      "cell_type": "markdown",
      "source": [
        "### 2.1 MISSING VALUE ANALYSİS"
      ],
      "metadata": {
        "id": "e8fded70"
      }
    },
    {
      "cell_type": "code",
      "source": [
        "def missing_values_table(dataframe, na_name=False):\n",
        "    na_columns = [col for col in dataframe.columns if dataframe[col].isnull().sum() > 0]\n",
        "    n_miss = dataframe[na_columns].isnull().sum().sort_values(ascending=False)\n",
        "    ratio = (dataframe[na_columns].isnull().sum() / dataframe.shape[0] * 100).sort_values(ascending=False)\n",
        "    missing_df = pd.concat([n_miss, np.round(ratio, 2)], axis=1, keys=['n_miss', 'ratio'])\n",
        "    print(missing_df, end=\"\\n\")\n",
        "    if na_name:\n",
        "        return na_columns\n",
        "\n",
        "na_columns = missing_values_table(df, na_name=True)\n",
        "df[\"TotalCharges\"].fillna(df[\"TotalCharges\"].median(), inplace=True)"
      ],
      "metadata": {
        "trusted": true,
        "execution": {
          "iopub.status.busy": "2025-04-27T21:44:22.458953Z",
          "iopub.execute_input": "2025-04-27T21:44:22.459208Z",
          "iopub.status.idle": "2025-04-27T21:44:22.482225Z",
          "shell.execute_reply.started": "2025-04-27T21:44:22.459188Z",
          "shell.execute_reply": "2025-04-27T21:44:22.481408Z"
        },
        "id": "0ea24cd7"
      },
      "outputs": [],
      "execution_count": null
    },
    {
      "cell_type": "code",
      "source": [
        "df.isnull().sum()"
      ],
      "metadata": {
        "trusted": true,
        "execution": {
          "iopub.status.busy": "2025-04-27T21:44:22.483141Z",
          "iopub.execute_input": "2025-04-27T21:44:22.483466Z",
          "iopub.status.idle": "2025-04-27T21:44:22.500795Z",
          "shell.execute_reply.started": "2025-04-27T21:44:22.483441Z",
          "shell.execute_reply": "2025-04-27T21:44:22.500042Z"
        },
        "id": "e3471984"
      },
      "outputs": [],
      "execution_count": null
    },
    {
      "cell_type": "markdown",
      "source": [
        "### BASE MODEL"
      ],
      "metadata": {
        "id": "d2786615"
      }
    },
    {
      "cell_type": "code",
      "source": [
        "dff = df.copy()\n",
        "cat_cols = [col for col in cat_cols if col not in [\"Churn\"]]\n",
        "\n",
        "def one_hot_encoder(dataframe, categorical_cols, drop_first=False):\n",
        "    dataframe = pd.get_dummies(dataframe, columns=categorical_cols, drop_first=drop_first)\n",
        "    return dataframe\n",
        "dff = one_hot_encoder(dff, cat_cols, drop_first=True)\n",
        "\n",
        "y = dff[\"Churn\"]\n",
        "X = dff.drop([\"Churn\",\"customerID\"], axis=1)"
      ],
      "metadata": {
        "trusted": true,
        "execution": {
          "iopub.status.busy": "2025-04-27T21:44:22.502034Z",
          "iopub.execute_input": "2025-04-27T21:44:22.50285Z",
          "iopub.status.idle": "2025-04-27T21:44:22.535943Z",
          "shell.execute_reply.started": "2025-04-27T21:44:22.502811Z",
          "shell.execute_reply": "2025-04-27T21:44:22.535135Z"
        },
        "id": "754044e5"
      },
      "outputs": [],
      "execution_count": null
    },
    {
      "cell_type": "code",
      "source": [
        "# All models\n",
        "\n",
        "models = [('LR', LogisticRegression(random_state=12345)),\n",
        "          ('KNN', KNeighborsClassifier()),\n",
        "          ('CART', DecisionTreeClassifier(random_state=12345)),\n",
        "          ('RF', RandomForestClassifier(random_state=12345)),\n",
        "          ('SVM', SVC(gamma='auto', random_state=12345)),\n",
        "          ('XGB', XGBClassifier(random_state=12345)),\n",
        "          (\"LightGBM\", LGBMClassifier(random_state=12345, verbose = -1)),\n",
        "          (\"CatBoost\", CatBoostClassifier(verbose=False, random_state=12345))]\n",
        "\n",
        "\n",
        "for name, model in models:\n",
        "    cv_results = cross_validate(model, X, y, cv=10, scoring=[\"accuracy\", \"f1\", \"roc_auc\", \"precision\", \"recall\"])\n",
        "    print(f\"########## {name} ##########\")\n",
        "    print(f\"Accuracy: {round(cv_results['test_accuracy'].mean(), 4)}\")\n",
        "    print(f\"Auc: {round(cv_results['test_roc_auc'].mean(), 4)}\")\n",
        "    print(f\"Recall: {round(cv_results['test_recall'].mean(), 4)}\")\n",
        "    print(f\"Precision: {round(cv_results['test_precision'].mean(), 4)}\")\n",
        "    print(f\"F1: {round(cv_results['test_f1'].mean(), 4)}\")"
      ],
      "metadata": {
        "trusted": true,
        "execution": {
          "iopub.status.busy": "2025-04-27T21:44:22.53875Z",
          "iopub.execute_input": "2025-04-27T21:44:22.539275Z",
          "iopub.status.idle": "2025-04-27T21:45:51.05314Z",
          "shell.execute_reply.started": "2025-04-27T21:44:22.539256Z",
          "shell.execute_reply": "2025-04-27T21:45:51.052238Z"
        },
        "id": "7165b04b"
      },
      "outputs": [],
      "execution_count": null
    },
    {
      "cell_type": "markdown",
      "source": [
        "### 2.2 OUTLIERS DETECTION & IMPUTATION"
      ],
      "metadata": {
        "id": "16272773"
      }
    },
    {
      "cell_type": "code",
      "source": [
        "def outlier_thresholds(dataframe, col_name, q1=0.05, q3=0.95):\n",
        "    quartile1 = dataframe[col_name].quantile(q1)\n",
        "    quartile3 = dataframe[col_name].quantile(q3)\n",
        "    interquantile_range = quartile3 - quartile1\n",
        "    up_limit = quartile3 + 1.5 * interquantile_range\n",
        "    low_limit = quartile1 - 1.5 * interquantile_range\n",
        "    return low_limit, up_limit\n",
        "\n",
        "def check_outlier(dataframe, col_name):\n",
        "    low_limit, up_limit = outlier_thresholds(dataframe, col_name)\n",
        "    if dataframe[(dataframe[col_name] > up_limit) | (dataframe[col_name] < low_limit)].any(axis=None):\n",
        "        return True\n",
        "    else:\n",
        "        return False\n",
        "\n",
        "def replace_with_thresholds(dataframe, variable, q1=0.05, q3=0.95):\n",
        "    low_limit, up_limit = outlier_thresholds(dataframe, variable, q1=0.05, q3=0.95)\n",
        "    dataframe.loc[(dataframe[variable] < low_limit), variable] = low_limit\n",
        "    dataframe.loc[(dataframe[variable] > up_limit), variable] = up_limit\n",
        "\n",
        "for col in num_cols:\n",
        "    print(col, check_outlier(df, col))\n",
        "    if check_outlier(df, col):\n",
        "        replace_with_thresholds(df, col)\n"
      ],
      "metadata": {
        "trusted": true,
        "execution": {
          "iopub.status.busy": "2025-04-27T21:45:51.054214Z",
          "iopub.execute_input": "2025-04-27T21:45:51.054536Z",
          "iopub.status.idle": "2025-04-27T21:45:51.07771Z",
          "shell.execute_reply.started": "2025-04-27T21:45:51.05451Z",
          "shell.execute_reply": "2025-04-27T21:45:51.07696Z"
        },
        "id": "5813a712"
      },
      "outputs": [],
      "execution_count": null
    },
    {
      "cell_type": "markdown",
      "source": [
        "### 2.3 FEATURE ENGINEERING"
      ],
      "metadata": {
        "id": "c3230785"
      }
    },
    {
      "cell_type": "code",
      "source": [
        "# Creating a yearly categorical variable from the \"tenure\" feature\n",
        "df.loc[(df[\"tenure\"] >= 0) & (df[\"tenure\"] <= 12), \"NEW_TENURE_YEAR\"] = \"0-1 Year\"\n",
        "df.loc[(df[\"tenure\"] > 12) & (df[\"tenure\"] <= 24), \"NEW_TENURE_YEAR\"] = \"1-2 Year\"\n",
        "df.loc[(df[\"tenure\"] > 24) & (df[\"tenure\"] <= 36), \"NEW_TENURE_YEAR\"] = \"2-3 Year\"\n",
        "df.loc[(df[\"tenure\"] > 36) & (df[\"tenure\"] <= 48), \"NEW_TENURE_YEAR\"] = \"3-4 Year\"\n",
        "df.loc[(df[\"tenure\"] > 48) & (df[\"tenure\"] <= 60), \"NEW_TENURE_YEAR\"] = \"4-5 Year\"\n",
        "df.loc[(df[\"tenure\"] > 60) & (df[\"tenure\"] <= 72), \"NEW_TENURE_YEAR\"] = \"5-6 Year\"\n",
        "\n",
        "# Labeling customers with 1 or 2-year contracts as \"Engaged\"\n",
        "df[\"NEW_Engaged\"] = df[\"Contract\"].apply(lambda x: 1 if x in [\"One year\", \"Two year\"] else 0)\n",
        "\n",
        "# Customers who do not have any backup, protection, or support services\n",
        "df[\"NEW_noProt\"] = df.apply(lambda x: 1 if (x[\"OnlineBackup\"] != \"Yes\") or (x[\"DeviceProtection\"] != \"Yes\") or (x[\"TechSupport\"] != \"Yes\") else 0, axis=1)\n",
        "\n",
        "# Customers with a monthly contract and who are young\n",
        "df[\"NEW_Young_Not_Engaged\"] = df.apply(lambda x: 1 if (x[\"NEW_Engaged\"] == 0) and (x[\"SeniorCitizen\"] == 0) else 0, axis=1)\n",
        "\n",
        "# The total number of services received by the customer\n",
        "df['NEW_TotalServices'] = (df[['PhoneService', 'InternetService', 'OnlineSecurity',\n",
        "                               'OnlineBackup', 'DeviceProtection', 'TechSupport',\n",
        "                               'StreamingTV', 'StreamingMovies']] == 'Yes').sum(axis=1)\n",
        "\n",
        "# Customers who subscribe to any streaming service\n",
        "df[\"NEW_FLAG_ANY_STREAMING\"] = df.apply(lambda x: 1 if (x[\"StreamingTV\"] == \"Yes\") or (x[\"StreamingMovies\"] == \"Yes\") else 0, axis=1)\n",
        "\n",
        "# Does the customer make automatic payments?\n",
        "df[\"NEW_FLAG_AutoPayment\"] = df[\"PaymentMethod\"].apply(lambda x: 1 if x in [\"Bank transfer (automatic)\", \"Credit card (automatic)\"] else 0)\n",
        "\n",
        "# Average monthly payment\n",
        "df[\"NEW_AVG_Charges\"] = df[\"TotalCharges\"] / (df[\"tenure\"] + 1)\n",
        "\n",
        "# Increase of the current price compared to the average price\n",
        "df[\"NEW_Increase\"] = df[\"NEW_AVG_Charges\"] / df[\"MonthlyCharges\"]\n",
        "\n",
        "# Fee per service\n",
        "df[\"NEW_AVG_Service_Fee\"] = df[\"MonthlyCharges\"] / (df['NEW_TotalServices'] + 1)\n"
      ],
      "metadata": {
        "trusted": true,
        "execution": {
          "iopub.status.busy": "2025-04-27T21:45:51.078589Z",
          "iopub.execute_input": "2025-04-27T21:45:51.078876Z",
          "iopub.status.idle": "2025-04-27T21:45:51.249408Z",
          "shell.execute_reply.started": "2025-04-27T21:45:51.078848Z",
          "shell.execute_reply": "2025-04-27T21:45:51.248459Z"
        },
        "id": "c971eec7"
      },
      "outputs": [],
      "execution_count": null
    },
    {
      "cell_type": "markdown",
      "source": [
        "### 2.4 ENCODING"
      ],
      "metadata": {
        "id": "3487cda0"
      }
    },
    {
      "cell_type": "code",
      "source": [
        "# Separating variables based on their data types\n",
        "cat_cols, num_cols, cat_but_car = grab_col_names(df)\n",
        "\n",
        "# LABEL ENCODING\n",
        "def label_encoder(dataframe, binary_col):\n",
        "    labelencoder = LabelEncoder()\n",
        "    dataframe[binary_col] = labelencoder.fit_transform(dataframe[binary_col])\n",
        "    return dataframe\n",
        "\n",
        "binary_cols = [col for col in df.columns if df[col].dtypes == \"O\" and df[col].nunique() == 2]\n",
        "\n",
        "for col in binary_cols:\n",
        "    df = label_encoder(df, col)\n",
        "\n",
        "# One-Hot Encoding Process\n",
        "# Updating the cat_cols list\n",
        "cat_cols = [col for col in cat_cols if col not in binary_cols and col not in [\"Churn\", \"NEW_TotalServices\"]]\n",
        "\n",
        "def one_hot_encoder(dataframe, categorical_cols, drop_first=False):\n",
        "    dataframe = pd.get_dummies(dataframe, columns=categorical_cols, drop_first=drop_first)\n",
        "    return dataframe\n",
        "\n",
        "df = one_hot_encoder(df, cat_cols, drop_first=True)\n",
        "\n",
        "df.head()"
      ],
      "metadata": {
        "trusted": true,
        "execution": {
          "iopub.status.busy": "2025-04-27T21:45:51.250244Z",
          "iopub.execute_input": "2025-04-27T21:45:51.250503Z",
          "iopub.status.idle": "2025-04-27T21:45:51.333546Z",
          "shell.execute_reply.started": "2025-04-27T21:45:51.250483Z",
          "shell.execute_reply": "2025-04-27T21:45:51.332864Z"
        },
        "id": "b4f9d5ee"
      },
      "outputs": [],
      "execution_count": null
    },
    {
      "cell_type": "markdown",
      "source": [
        "## ALL MODELS WITH NEW FEATURES"
      ],
      "metadata": {
        "id": "367d4a5b"
      }
    },
    {
      "cell_type": "code",
      "source": [
        "y = df[\"Churn\"]\n",
        "X = df.drop([\"Churn\", \"customerID\"], axis=1)\n",
        "\n",
        "##################################\n",
        "# PERFORMANCE ANALYSIS WITH BASIC MODELS\n",
        "##################################\n",
        "\n",
        "models = [\n",
        "    ('LR', LogisticRegression(random_state=12345)),\n",
        "    ('KNN', KNeighborsClassifier()),\n",
        "    ('CART', DecisionTreeClassifier(random_state=12345)),\n",
        "    ('RF', RandomForestClassifier(random_state=12345)),\n",
        "    ('SVM', SVC(gamma='auto', random_state=12345)),\n",
        "    ('XGB', XGBClassifier(random_state=12345)),\n",
        "    ('LightGBM', LGBMClassifier(random_state=12345, verbose = -1)),\n",
        "    ('CatBoost', CatBoostClassifier(verbose=False, random_state=12345))\n",
        "]\n",
        "\n",
        "for name, model in models:\n",
        "    cv_results = cross_validate(model, X, y, cv=10, scoring=[\"accuracy\", \"f1\", \"roc_auc\", \"precision\", \"recall\"])\n",
        "    print(f\"\\n########## {name} ##########\")\n",
        "    print(f\"Accuracy: {round(cv_results['test_accuracy'].mean(), 4)}\")\n",
        "    print(f\"AUC: {round(cv_results['test_roc_auc'].mean(), 4)}\")\n",
        "    print(f\"Recall: {round(cv_results['test_recall'].mean(), 4)}\")\n",
        "    print(f\"Precision: {round(cv_results['test_precision'].mean(), 4)}\")\n",
        "    print(f\"F1 Score: {round(cv_results['test_f1'].mean(), 4)}\")\n"
      ],
      "metadata": {
        "trusted": true,
        "execution": {
          "iopub.status.busy": "2025-04-27T21:45:51.334446Z",
          "iopub.execute_input": "2025-04-27T21:45:51.33475Z",
          "iopub.status.idle": "2025-04-27T21:47:33.036968Z",
          "shell.execute_reply.started": "2025-04-27T21:45:51.334725Z",
          "shell.execute_reply": "2025-04-27T21:47:33.036255Z"
        },
        "id": "3c721ba4"
      },
      "outputs": [],
      "execution_count": null
    },
    {
      "cell_type": "code",
      "source": [
        "##################################\n",
        "# DEFINING HYPERPARAMETER RANGES\n",
        "##################################\n",
        "\n",
        "models_params = {\n",
        "    \"RandomForest\": (\n",
        "        RandomForestClassifier(random_state=17),\n",
        "        {\n",
        "            \"max_depth\": np.arange(3, 20),\n",
        "            \"max_features\": [3, 5, 7, \"auto\", \"sqrt\"],\n",
        "            \"min_samples_split\": np.arange(2, 20),\n",
        "            \"n_estimators\": np.arange(100, 1000, 50)\n",
        "        }\n",
        "    ),\n",
        "    \"XGBoost\": (\n",
        "        XGBClassifier(random_state=17, verbosity=0),\n",
        "        {\n",
        "            \"learning_rate\": [0.1, 0.01, 0.001],\n",
        "            \"max_depth\": np.arange(3, 20),\n",
        "            \"n_estimators\": np.arange(100, 1000, 50),\n",
        "            \"colsample_bytree\": [0.5, 0.7, 1]\n",
        "        }\n",
        "    ),\n",
        "    \"LightGBM\": (\n",
        "        LGBMClassifier(random_state=17, verbose = -1),\n",
        "        {\n",
        "            \"learning_rate\": [0.1, 0.01, 0.001],\n",
        "            \"n_estimators\": np.arange(100, 1000, 100),\n",
        "            \"colsample_bytree\": [0.5, 0.7, 1]\n",
        "        }\n",
        "    ),\n",
        "    \"CatBoost\": (\n",
        "        CatBoostClassifier(random_state=17, verbose=False),\n",
        "        {\n",
        "            \"iterations\": [200, 500, 700],\n",
        "            \"learning_rate\": [0.1, 0.01],\n",
        "            \"depth\": [3, 4, 5, 6]\n",
        "        }\n",
        "    )\n",
        "}"
      ],
      "metadata": {
        "trusted": true,
        "execution": {
          "iopub.status.busy": "2025-04-27T21:47:33.03793Z",
          "iopub.execute_input": "2025-04-27T21:47:33.03822Z",
          "iopub.status.idle": "2025-04-27T21:47:33.049524Z",
          "shell.execute_reply.started": "2025-04-27T21:47:33.038192Z",
          "shell.execute_reply": "2025-04-27T21:47:33.048739Z"
        },
        "id": "b6491f0d"
      },
      "outputs": [],
      "execution_count": null
    },
    {
      "cell_type": "code",
      "source": [
        "##################################\n",
        "# RANDOMIZED + GRID SEARCH FUNCTION\n",
        "##################################\n",
        "\n",
        "def random_and_grid_search(models_params, X, y, random_iter=20, cv_random=3, cv_grid=5, plot_feature_importance=False):\n",
        "    results = []\n",
        "    best_params_all = {}\n",
        "    final_models = {}\n",
        "\n",
        "    for name, (model, random_param_grid) in models_params.items():\n",
        "        print(f\"\\n########## {name} Model Training Started ##########\")\n",
        "\n",
        "        # 1. RandomizedSearchCV stage\n",
        "        random_search = RandomizedSearchCV(\n",
        "            model,\n",
        "            random_param_grid,\n",
        "            n_iter=random_iter,\n",
        "            cv=cv_random,\n",
        "            n_jobs=-1,\n",
        "            random_state=17,\n",
        "            verbose=0\n",
        "        ).fit(X, y)\n",
        "\n",
        "        print(f\"RandomizedSearch Best Params for {name}: {random_search.best_params_}\")\n",
        "\n",
        "        # 2. Preparing parameters for GridSearchCV\n",
        "        best_params = random_search.best_params_\n",
        "        grid_param_grid = {}\n",
        "\n",
        "        for param_name, best_val in best_params.items():\n",
        "            if isinstance(best_val, (int, float)):\n",
        "                if param_name in [\"learning_rate\", \"colsample_bytree\", \"feature_fraction\"]:\n",
        "                    grid_param_grid[param_name] = [\n",
        "                        max(0.0001, best_val * 0.9),\n",
        "                        best_val,\n",
        "                        min(1.0, best_val * 1.1)\n",
        "                    ]\n",
        "                else:\n",
        "                    grid_param_grid[param_name] = [\n",
        "                        max(1, best_val - 1),\n",
        "                        best_val,\n",
        "                        best_val + 1\n",
        "                    ]\n",
        "            else:\n",
        "                grid_param_grid[param_name] = [best_val]\n",
        "\n",
        "        # 3. GridSearchCV stage\n",
        "        grid_search = GridSearchCV(\n",
        "            model,\n",
        "            grid_param_grid,\n",
        "            cv=cv_grid,\n",
        "            n_jobs=-1,\n",
        "            verbose=0\n",
        "        ).fit(X, y)\n",
        "\n",
        "        print(f\"GridSearch Best Params for {name}: {grid_search.best_params_}\")\n",
        "\n",
        "        best_params_all[name] = grid_search.best_params_\n",
        "\n",
        "        # 4. Training the final model with best parameters\n",
        "        final_model = model.set_params(**grid_search.best_params_, random_state=17).fit(X, y)\n",
        "        final_models[name] = final_model\n",
        "\n",
        "        # 5. Cross-validation performance measurement\n",
        "        cv_results = cross_validate(final_model, X, y, cv=10, scoring=[\"accuracy\", \"f1\", \"roc_auc\"])\n",
        "\n",
        "        results.append({\n",
        "            \"Model\": name,\n",
        "            \"Accuracy\": round(cv_results[\"test_accuracy\"].mean(), 4),\n",
        "            \"F1 Score\": round(cv_results[\"test_f1\"].mean(), 4),\n",
        "            \"ROC AUC\": round(cv_results[\"test_roc_auc\"].mean(), 4)\n",
        "        })\n",
        "\n",
        "    # 6. Convert results into a DataFrame\n",
        "    results_df = pd.DataFrame(results).sort_values(by=\"ROC AUC\", ascending=False).reset_index(drop=True)\n",
        "\n",
        "    # 7. Feature Importance plotting (optional)\n",
        "    if plot_feature_importance:\n",
        "        for name, model in final_models.items():\n",
        "            if hasattr(model, \"feature_importances_\"):\n",
        "                importances = model.feature_importances_\n",
        "                feature_names = X.columns\n",
        "                feature_imp_df = pd.DataFrame({\"Feature\": feature_names, \"Importance\": importances})\n",
        "                feature_imp_df = feature_imp_df.sort_values(by=\"Importance\", ascending=False)\n",
        "\n",
        "                plt.figure(figsize=(10, 6))\n",
        "                plt.barh(feature_imp_df[\"Feature\"], feature_imp_df[\"Importance\"], color=\"royalblue\")\n",
        "                plt.title(f\"{name} - Feature Importances\", fontsize=16, fontweight=\"bold\")\n",
        "                plt.gca().invert_yaxis()\n",
        "                plt.grid(True, axis='x', linestyle='--', alpha=0.7)\n",
        "                plt.tight_layout()\n",
        "                plt.show()\n",
        "            else:\n",
        "                print(f\"\\nNo 'feature_importances_' attribute found for {name} model. (Skipped.)\")\n",
        "\n",
        "    return results_df, best_params_all\n"
      ],
      "metadata": {
        "trusted": true,
        "execution": {
          "iopub.status.busy": "2025-04-27T21:47:33.050546Z",
          "iopub.execute_input": "2025-04-27T21:47:33.050876Z",
          "iopub.status.idle": "2025-04-27T21:47:33.068912Z",
          "shell.execute_reply.started": "2025-04-27T21:47:33.050834Z",
          "shell.execute_reply": "2025-04-27T21:47:33.067992Z"
        },
        "id": "d95ae314"
      },
      "outputs": [],
      "execution_count": null
    },
    {
      "cell_type": "code",
      "source": [
        "##################################\n",
        "# FUNCTION EXECUTION\n",
        "##################################\n",
        "\n",
        "results_df, best_params_all = random_and_grid_search(models_params, X, y, plot_feature_importance=True)\n",
        "\n",
        "# Results\n",
        "print(\"\\n########## Final Model Performances ##########\")\n",
        "print(results_df)\n",
        "\n",
        "print(\"\\n########## Best Hyperparameters ##########\")\n",
        "print(best_params_all)"
      ],
      "metadata": {
        "trusted": true,
        "execution": {
          "iopub.status.busy": "2025-04-27T21:47:33.069816Z",
          "iopub.execute_input": "2025-04-27T21:47:33.070132Z",
          "iopub.status.idle": "2025-04-27T21:58:06.95213Z",
          "shell.execute_reply.started": "2025-04-27T21:47:33.070104Z",
          "shell.execute_reply": "2025-04-27T21:58:06.951228Z"
        },
        "id": "f0d297de"
      },
      "outputs": [],
      "execution_count": null
    },
    {
      "cell_type": "code",
      "source": [],
      "metadata": {
        "trusted": true,
        "id": "8978a760"
      },
      "outputs": [],
      "execution_count": null
    },
    {
      "cell_type": "code",
      "source": [],
      "metadata": {
        "trusted": true,
        "id": "78b8c224"
      },
      "outputs": [],
      "execution_count": null
    }
  ]
}